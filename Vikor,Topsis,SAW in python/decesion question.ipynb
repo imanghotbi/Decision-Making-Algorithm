{
 "cells": [
  {
   "cell_type": "markdown",
   "id": "2486791d",
   "metadata": {},
   "source": [
    "<h1 style=\"text-align:center\">decison making </h1> \n",
    "</br>\n",
    "<center>\n",
    "    <img src=\"https://www.jsrecruitmentuk.com/wp-content/uploads/decsion.jpg\" width=\"500\" alt=\"cognitiveclass.ai logo\"  />\n",
    "</center>\n",
    "</br>\n",
    "\n",
    "## problem description\n",
    "choice best car with **saw,vikor and topsis** method\n",
    "## Features on data set\n",
    "cylinders: contains the number of cylinders present in the car\n",
    "\n",
    "displacement: contains the Displacement of the car\n",
    "\n",
    "horsepower: contains the Horsepower of the car\n",
    "\n",
    "weight: contains the weight of the car\n",
    "\n",
    "acceleration: contains the Acceleration of the car\n",
    "\n",
    "model_year: contains the model year of the car\n",
    "\n",
    "origin: contains the origin country which car belong to\n",
    "\n",
    "car_name: contains the name of the car(Brand-Model-Variant)\n",
    " $$\n",
    "mpg:            \\frac{Miles driven}{gallons  used  to  refill  the  tank}\n",
    "        $$ "
   ]
  },
  {
   "cell_type": "markdown",
   "id": "2f478873",
   "metadata": {},
   "source": [
    "<h1>Table of contents</h1>\n",
    "\n",
    "<div class=\"alert alert-block alert-info\" style=\"margin-top: 20px\">\n",
    "    <ol>\n",
    "        <li><a href=\"#checkDataSet\">check data set</a></li>\n",
    "        <li><a href=\"#sawmethod\">SAW method</a></li>\n",
    "        <li><a href=\"#topsis\">topsis method</a></li>\n",
    "        <li><a href=\"#vikor\">vikor method</a></li>\n",
    "    </ol>\n",
    "</div>\n",
    "<br>\n",
    "<hr>"
   ]
  },
  {
   "cell_type": "markdown",
   "id": "b5fb9af3",
   "metadata": {},
   "source": [
    "![purple-divider](https://user-images.githubusercontent.com/7065401/52071927-c1cd7100-2562-11e9-908a-dde91ba14e59.png)"
   ]
  },
  {
   "cell_type": "code",
   "execution_count": 5,
   "id": "799447a2",
   "metadata": {},
   "outputs": [],
   "source": [
    "# import module\n",
    "import numpy as np\n",
    "import pandas as pd \n",
    "import matplotlib.pyplot as plt"
   ]
  },
  {
   "cell_type": "markdown",
   "id": "ca016e13",
   "metadata": {},
   "source": [
    "![green-divider](https://user-images.githubusercontent.com/7065401/52071924-c003ad80-2562-11e9-8297-1c6595f8a7ff.png)"
   ]
  },
  {
   "cell_type": "markdown",
   "id": "967c8d27",
   "metadata": {},
   "source": [
    "<h2 id=\"checkDataSet\">check data set</h2>"
   ]
  },
  {
   "cell_type": "code",
   "execution_count": 6,
   "id": "74652044",
   "metadata": {},
   "outputs": [],
   "source": [
    "auto_mpg=pd.read_csv(r\"auto_mpg_dataset.csv\",index_col=7)"
   ]
  },
  {
   "cell_type": "code",
   "execution_count": 7,
   "id": "66761f5f",
   "metadata": {},
   "outputs": [
    {
     "data": {
      "text/html": [
       "<div>\n",
       "<style scoped>\n",
       "    .dataframe tbody tr th:only-of-type {\n",
       "        vertical-align: middle;\n",
       "    }\n",
       "\n",
       "    .dataframe tbody tr th {\n",
       "        vertical-align: top;\n",
       "    }\n",
       "\n",
       "    .dataframe thead th {\n",
       "        text-align: right;\n",
       "    }\n",
       "</style>\n",
       "<table border=\"1\" class=\"dataframe\">\n",
       "  <thead>\n",
       "    <tr style=\"text-align: right;\">\n",
       "      <th></th>\n",
       "      <th>cylinders</th>\n",
       "      <th>displacement</th>\n",
       "      <th>horsepower</th>\n",
       "      <th>weight</th>\n",
       "      <th>acceleration</th>\n",
       "      <th>model_year</th>\n",
       "      <th>origin</th>\n",
       "      <th>mpg</th>\n",
       "    </tr>\n",
       "    <tr>\n",
       "      <th>car_name</th>\n",
       "      <th></th>\n",
       "      <th></th>\n",
       "      <th></th>\n",
       "      <th></th>\n",
       "      <th></th>\n",
       "      <th></th>\n",
       "      <th></th>\n",
       "      <th></th>\n",
       "    </tr>\n",
       "  </thead>\n",
       "  <tbody>\n",
       "    <tr>\n",
       "      <th>chevrolet chevelle malibu</th>\n",
       "      <td>8</td>\n",
       "      <td>307.0</td>\n",
       "      <td>130.0</td>\n",
       "      <td>3504.0</td>\n",
       "      <td>12.0</td>\n",
       "      <td>70</td>\n",
       "      <td>1</td>\n",
       "      <td>18.0</td>\n",
       "    </tr>\n",
       "    <tr>\n",
       "      <th>buick skylark 320</th>\n",
       "      <td>8</td>\n",
       "      <td>350.0</td>\n",
       "      <td>165.0</td>\n",
       "      <td>3693.0</td>\n",
       "      <td>11.5</td>\n",
       "      <td>70</td>\n",
       "      <td>1</td>\n",
       "      <td>15.0</td>\n",
       "    </tr>\n",
       "    <tr>\n",
       "      <th>plymouth satellite</th>\n",
       "      <td>8</td>\n",
       "      <td>318.0</td>\n",
       "      <td>150.0</td>\n",
       "      <td>3436.0</td>\n",
       "      <td>11.0</td>\n",
       "      <td>70</td>\n",
       "      <td>1</td>\n",
       "      <td>18.0</td>\n",
       "    </tr>\n",
       "    <tr>\n",
       "      <th>amc rebel sst</th>\n",
       "      <td>8</td>\n",
       "      <td>304.0</td>\n",
       "      <td>150.0</td>\n",
       "      <td>3433.0</td>\n",
       "      <td>12.0</td>\n",
       "      <td>70</td>\n",
       "      <td>1</td>\n",
       "      <td>16.0</td>\n",
       "    </tr>\n",
       "    <tr>\n",
       "      <th>ford torino</th>\n",
       "      <td>8</td>\n",
       "      <td>302.0</td>\n",
       "      <td>140.0</td>\n",
       "      <td>3449.0</td>\n",
       "      <td>10.5</td>\n",
       "      <td>70</td>\n",
       "      <td>1</td>\n",
       "      <td>17.0</td>\n",
       "    </tr>\n",
       "  </tbody>\n",
       "</table>\n",
       "</div>"
      ],
      "text/plain": [
       "                           cylinders  displacement  horsepower  weight  \\\n",
       "car_name                                                                 \n",
       "chevrolet chevelle malibu          8         307.0       130.0  3504.0   \n",
       "buick skylark 320                  8         350.0       165.0  3693.0   \n",
       "plymouth satellite                 8         318.0       150.0  3436.0   \n",
       "amc rebel sst                      8         304.0       150.0  3433.0   \n",
       "ford torino                        8         302.0       140.0  3449.0   \n",
       "\n",
       "                           acceleration  model_year  origin   mpg  \n",
       "car_name                                                           \n",
       "chevrolet chevelle malibu          12.0          70       1  18.0  \n",
       "buick skylark 320                  11.5          70       1  15.0  \n",
       "plymouth satellite                 11.0          70       1  18.0  \n",
       "amc rebel sst                      12.0          70       1  16.0  \n",
       "ford torino                        10.5          70       1  17.0  "
      ]
     },
     "execution_count": 7,
     "metadata": {},
     "output_type": "execute_result"
    }
   ],
   "source": [
    "auto_mpg.head()"
   ]
  },
  {
   "cell_type": "code",
   "execution_count": 8,
   "id": "96a451d2",
   "metadata": {},
   "outputs": [
    {
     "data": {
      "text/html": [
       "<div>\n",
       "<style scoped>\n",
       "    .dataframe tbody tr th:only-of-type {\n",
       "        vertical-align: middle;\n",
       "    }\n",
       "\n",
       "    .dataframe tbody tr th {\n",
       "        vertical-align: top;\n",
       "    }\n",
       "\n",
       "    .dataframe thead th {\n",
       "        text-align: right;\n",
       "    }\n",
       "</style>\n",
       "<table border=\"1\" class=\"dataframe\">\n",
       "  <thead>\n",
       "    <tr style=\"text-align: right;\">\n",
       "      <th></th>\n",
       "      <th>cylinders</th>\n",
       "      <th>displacement</th>\n",
       "      <th>horsepower</th>\n",
       "      <th>weight</th>\n",
       "      <th>acceleration</th>\n",
       "      <th>model_year</th>\n",
       "      <th>origin</th>\n",
       "      <th>mpg</th>\n",
       "    </tr>\n",
       "    <tr>\n",
       "      <th>car_name</th>\n",
       "      <th></th>\n",
       "      <th></th>\n",
       "      <th></th>\n",
       "      <th></th>\n",
       "      <th></th>\n",
       "      <th></th>\n",
       "      <th></th>\n",
       "      <th></th>\n",
       "    </tr>\n",
       "  </thead>\n",
       "  <tbody>\n",
       "    <tr>\n",
       "      <th>ford mustang gl</th>\n",
       "      <td>4</td>\n",
       "      <td>140.0</td>\n",
       "      <td>86.0</td>\n",
       "      <td>2790.0</td>\n",
       "      <td>15.6</td>\n",
       "      <td>82</td>\n",
       "      <td>1</td>\n",
       "      <td>27.0</td>\n",
       "    </tr>\n",
       "    <tr>\n",
       "      <th>vw pickup</th>\n",
       "      <td>4</td>\n",
       "      <td>97.0</td>\n",
       "      <td>52.0</td>\n",
       "      <td>2130.0</td>\n",
       "      <td>24.6</td>\n",
       "      <td>82</td>\n",
       "      <td>2</td>\n",
       "      <td>44.0</td>\n",
       "    </tr>\n",
       "    <tr>\n",
       "      <th>dodge rampage</th>\n",
       "      <td>4</td>\n",
       "      <td>135.0</td>\n",
       "      <td>84.0</td>\n",
       "      <td>2295.0</td>\n",
       "      <td>11.6</td>\n",
       "      <td>82</td>\n",
       "      <td>1</td>\n",
       "      <td>32.0</td>\n",
       "    </tr>\n",
       "    <tr>\n",
       "      <th>ford ranger</th>\n",
       "      <td>4</td>\n",
       "      <td>120.0</td>\n",
       "      <td>79.0</td>\n",
       "      <td>2625.0</td>\n",
       "      <td>18.6</td>\n",
       "      <td>82</td>\n",
       "      <td>1</td>\n",
       "      <td>28.0</td>\n",
       "    </tr>\n",
       "    <tr>\n",
       "      <th>chevy s-10</th>\n",
       "      <td>4</td>\n",
       "      <td>119.0</td>\n",
       "      <td>82.0</td>\n",
       "      <td>2720.0</td>\n",
       "      <td>19.4</td>\n",
       "      <td>82</td>\n",
       "      <td>1</td>\n",
       "      <td>31.0</td>\n",
       "    </tr>\n",
       "  </tbody>\n",
       "</table>\n",
       "</div>"
      ],
      "text/plain": [
       "                 cylinders  displacement  horsepower  weight  acceleration  \\\n",
       "car_name                                                                     \n",
       "ford mustang gl          4         140.0        86.0  2790.0          15.6   \n",
       "vw pickup                4          97.0        52.0  2130.0          24.6   \n",
       "dodge rampage            4         135.0        84.0  2295.0          11.6   \n",
       "ford ranger              4         120.0        79.0  2625.0          18.6   \n",
       "chevy s-10               4         119.0        82.0  2720.0          19.4   \n",
       "\n",
       "                 model_year  origin   mpg  \n",
       "car_name                                   \n",
       "ford mustang gl          82       1  27.0  \n",
       "vw pickup                82       2  44.0  \n",
       "dodge rampage            82       1  32.0  \n",
       "ford ranger              82       1  28.0  \n",
       "chevy s-10               82       1  31.0  "
      ]
     },
     "execution_count": 8,
     "metadata": {},
     "output_type": "execute_result"
    }
   ],
   "source": [
    "auto_mpg.tail()"
   ]
  },
  {
   "cell_type": "code",
   "execution_count": 9,
   "id": "d796bc48",
   "metadata": {},
   "outputs": [
    {
     "data": {
      "text/plain": [
       "car_name\n",
       "chevrolet chevelle malibu    1\n",
       "buick skylark 320            1\n",
       "plymouth satellite           1\n",
       "amc rebel sst                1\n",
       "ford torino                  1\n",
       "                            ..\n",
       "ford mustang gl              1\n",
       "vw pickup                    2\n",
       "dodge rampage                1\n",
       "ford ranger                  1\n",
       "chevy s-10                   1\n",
       "Name: origin, Length: 398, dtype: int64"
      ]
     },
     "execution_count": 9,
     "metadata": {},
     "output_type": "execute_result"
    }
   ],
   "source": [
    "auto_mpg.pop(\"displacement\")\n",
    "auto_mpg.pop(\"origin\")"
   ]
  },
  {
   "cell_type": "code",
   "execution_count": 10,
   "id": "5afe32ed",
   "metadata": {},
   "outputs": [
    {
     "data": {
      "text/html": [
       "<div>\n",
       "<style scoped>\n",
       "    .dataframe tbody tr th:only-of-type {\n",
       "        vertical-align: middle;\n",
       "    }\n",
       "\n",
       "    .dataframe tbody tr th {\n",
       "        vertical-align: top;\n",
       "    }\n",
       "\n",
       "    .dataframe thead th {\n",
       "        text-align: right;\n",
       "    }\n",
       "</style>\n",
       "<table border=\"1\" class=\"dataframe\">\n",
       "  <thead>\n",
       "    <tr style=\"text-align: right;\">\n",
       "      <th></th>\n",
       "      <th>cylinders</th>\n",
       "      <th>horsepower</th>\n",
       "      <th>weight</th>\n",
       "      <th>acceleration</th>\n",
       "      <th>model_year</th>\n",
       "      <th>mpg</th>\n",
       "    </tr>\n",
       "    <tr>\n",
       "      <th>car_name</th>\n",
       "      <th></th>\n",
       "      <th></th>\n",
       "      <th></th>\n",
       "      <th></th>\n",
       "      <th></th>\n",
       "      <th></th>\n",
       "    </tr>\n",
       "  </thead>\n",
       "  <tbody>\n",
       "    <tr>\n",
       "      <th>chevrolet chevelle malibu</th>\n",
       "      <td>8</td>\n",
       "      <td>130.0</td>\n",
       "      <td>3504.0</td>\n",
       "      <td>12.0</td>\n",
       "      <td>70</td>\n",
       "      <td>18.0</td>\n",
       "    </tr>\n",
       "    <tr>\n",
       "      <th>buick skylark 320</th>\n",
       "      <td>8</td>\n",
       "      <td>165.0</td>\n",
       "      <td>3693.0</td>\n",
       "      <td>11.5</td>\n",
       "      <td>70</td>\n",
       "      <td>15.0</td>\n",
       "    </tr>\n",
       "    <tr>\n",
       "      <th>plymouth satellite</th>\n",
       "      <td>8</td>\n",
       "      <td>150.0</td>\n",
       "      <td>3436.0</td>\n",
       "      <td>11.0</td>\n",
       "      <td>70</td>\n",
       "      <td>18.0</td>\n",
       "    </tr>\n",
       "    <tr>\n",
       "      <th>amc rebel sst</th>\n",
       "      <td>8</td>\n",
       "      <td>150.0</td>\n",
       "      <td>3433.0</td>\n",
       "      <td>12.0</td>\n",
       "      <td>70</td>\n",
       "      <td>16.0</td>\n",
       "    </tr>\n",
       "    <tr>\n",
       "      <th>ford torino</th>\n",
       "      <td>8</td>\n",
       "      <td>140.0</td>\n",
       "      <td>3449.0</td>\n",
       "      <td>10.5</td>\n",
       "      <td>70</td>\n",
       "      <td>17.0</td>\n",
       "    </tr>\n",
       "  </tbody>\n",
       "</table>\n",
       "</div>"
      ],
      "text/plain": [
       "                           cylinders  horsepower  weight  acceleration  \\\n",
       "car_name                                                                 \n",
       "chevrolet chevelle malibu          8       130.0  3504.0          12.0   \n",
       "buick skylark 320                  8       165.0  3693.0          11.5   \n",
       "plymouth satellite                 8       150.0  3436.0          11.0   \n",
       "amc rebel sst                      8       150.0  3433.0          12.0   \n",
       "ford torino                        8       140.0  3449.0          10.5   \n",
       "\n",
       "                           model_year   mpg  \n",
       "car_name                                     \n",
       "chevrolet chevelle malibu          70  18.0  \n",
       "buick skylark 320                  70  15.0  \n",
       "plymouth satellite                 70  18.0  \n",
       "amc rebel sst                      70  16.0  \n",
       "ford torino                        70  17.0  "
      ]
     },
     "execution_count": 10,
     "metadata": {},
     "output_type": "execute_result"
    }
   ],
   "source": [
    "auto_mpg.head()"
   ]
  },
  {
   "cell_type": "code",
   "execution_count": 11,
   "id": "75edefba",
   "metadata": {},
   "outputs": [
    {
     "name": "stdout",
     "output_type": "stream",
     "text": [
      "<class 'pandas.core.frame.DataFrame'>\n",
      "Index: 398 entries, chevrolet chevelle malibu to chevy s-10\n",
      "Data columns (total 6 columns):\n",
      " #   Column        Non-Null Count  Dtype  \n",
      "---  ------        --------------  -----  \n",
      " 0   cylinders     398 non-null    int64  \n",
      " 1   horsepower    398 non-null    float64\n",
      " 2   weight        398 non-null    float64\n",
      " 3   acceleration  398 non-null    float64\n",
      " 4   model_year    398 non-null    int64  \n",
      " 5   mpg           398 non-null    float64\n",
      "dtypes: float64(4), int64(2)\n",
      "memory usage: 37.9+ KB\n"
     ]
    }
   ],
   "source": [
    "auto_mpg.info()"
   ]
  },
  {
   "cell_type": "code",
   "execution_count": 12,
   "id": "5d18452b",
   "metadata": {},
   "outputs": [
    {
     "data": {
      "text/html": [
       "<div>\n",
       "<style scoped>\n",
       "    .dataframe tbody tr th:only-of-type {\n",
       "        vertical-align: middle;\n",
       "    }\n",
       "\n",
       "    .dataframe tbody tr th {\n",
       "        vertical-align: top;\n",
       "    }\n",
       "\n",
       "    .dataframe thead th {\n",
       "        text-align: right;\n",
       "    }\n",
       "</style>\n",
       "<table border=\"1\" class=\"dataframe\">\n",
       "  <thead>\n",
       "    <tr style=\"text-align: right;\">\n",
       "      <th></th>\n",
       "      <th>cylinders</th>\n",
       "      <th>horsepower</th>\n",
       "      <th>weight</th>\n",
       "      <th>acceleration</th>\n",
       "      <th>model_year</th>\n",
       "      <th>mpg</th>\n",
       "    </tr>\n",
       "  </thead>\n",
       "  <tbody>\n",
       "    <tr>\n",
       "      <th>count</th>\n",
       "      <td>398.000000</td>\n",
       "      <td>398.000000</td>\n",
       "      <td>398.000000</td>\n",
       "      <td>398.000000</td>\n",
       "      <td>398.000000</td>\n",
       "      <td>398.000000</td>\n",
       "    </tr>\n",
       "    <tr>\n",
       "      <th>mean</th>\n",
       "      <td>5.454774</td>\n",
       "      <td>-1404.643216</td>\n",
       "      <td>2970.424623</td>\n",
       "      <td>15.568090</td>\n",
       "      <td>76.010050</td>\n",
       "      <td>23.514573</td>\n",
       "    </tr>\n",
       "    <tr>\n",
       "      <th>std</th>\n",
       "      <td>1.701004</td>\n",
       "      <td>12213.424763</td>\n",
       "      <td>846.841774</td>\n",
       "      <td>2.757689</td>\n",
       "      <td>3.697627</td>\n",
       "      <td>7.815984</td>\n",
       "    </tr>\n",
       "    <tr>\n",
       "      <th>min</th>\n",
       "      <td>3.000000</td>\n",
       "      <td>-100000.000000</td>\n",
       "      <td>1613.000000</td>\n",
       "      <td>8.000000</td>\n",
       "      <td>70.000000</td>\n",
       "      <td>9.000000</td>\n",
       "    </tr>\n",
       "    <tr>\n",
       "      <th>25%</th>\n",
       "      <td>4.000000</td>\n",
       "      <td>75.000000</td>\n",
       "      <td>2223.750000</td>\n",
       "      <td>13.825000</td>\n",
       "      <td>73.000000</td>\n",
       "      <td>17.500000</td>\n",
       "    </tr>\n",
       "    <tr>\n",
       "      <th>50%</th>\n",
       "      <td>4.000000</td>\n",
       "      <td>92.000000</td>\n",
       "      <td>2803.500000</td>\n",
       "      <td>15.500000</td>\n",
       "      <td>76.000000</td>\n",
       "      <td>23.000000</td>\n",
       "    </tr>\n",
       "    <tr>\n",
       "      <th>75%</th>\n",
       "      <td>8.000000</td>\n",
       "      <td>125.000000</td>\n",
       "      <td>3608.000000</td>\n",
       "      <td>17.175000</td>\n",
       "      <td>79.000000</td>\n",
       "      <td>29.000000</td>\n",
       "    </tr>\n",
       "    <tr>\n",
       "      <th>max</th>\n",
       "      <td>8.000000</td>\n",
       "      <td>230.000000</td>\n",
       "      <td>5140.000000</td>\n",
       "      <td>24.800000</td>\n",
       "      <td>82.000000</td>\n",
       "      <td>46.600000</td>\n",
       "    </tr>\n",
       "  </tbody>\n",
       "</table>\n",
       "</div>"
      ],
      "text/plain": [
       "        cylinders     horsepower       weight  acceleration  model_year  \\\n",
       "count  398.000000     398.000000   398.000000    398.000000  398.000000   \n",
       "mean     5.454774   -1404.643216  2970.424623     15.568090   76.010050   \n",
       "std      1.701004   12213.424763   846.841774      2.757689    3.697627   \n",
       "min      3.000000 -100000.000000  1613.000000      8.000000   70.000000   \n",
       "25%      4.000000      75.000000  2223.750000     13.825000   73.000000   \n",
       "50%      4.000000      92.000000  2803.500000     15.500000   76.000000   \n",
       "75%      8.000000     125.000000  3608.000000     17.175000   79.000000   \n",
       "max      8.000000     230.000000  5140.000000     24.800000   82.000000   \n",
       "\n",
       "              mpg  \n",
       "count  398.000000  \n",
       "mean    23.514573  \n",
       "std      7.815984  \n",
       "min      9.000000  \n",
       "25%     17.500000  \n",
       "50%     23.000000  \n",
       "75%     29.000000  \n",
       "max     46.600000  "
      ]
     },
     "execution_count": 12,
     "metadata": {},
     "output_type": "execute_result"
    }
   ],
   "source": [
    "auto_mpg.describe()"
   ]
  },
  {
   "cell_type": "code",
   "execution_count": 13,
   "id": "783ff7a8",
   "metadata": {},
   "outputs": [
    {
     "data": {
      "image/png": "[encoded data removed]",
      "text/plain": [
       "<Figure size 432x288 with 6 Axes>"
      ]
     },
     "metadata": {
      "needs_background": "light"
     },
     "output_type": "display_data"
    }
   ],
   "source": [
    "auto_mpg.hist()\n",
    "plt.show()"
   ]
  },
  {
   "cell_type": "code",
   "execution_count": 14,
   "id": "e437b84b",
   "metadata": {},
   "outputs": [
    {
     "data": {
      "text/plain": [
       "Index(['cylinders', 'horsepower', 'weight', 'acceleration', 'model_year',\n",
       "       'mpg'],\n",
       "      dtype='object')"
      ]
     },
     "execution_count": 14,
     "metadata": {},
     "output_type": "execute_result"
    }
   ],
   "source": [
    "auto_mpg.columns"
   ]
  },
  {
   "cell_type": "code",
   "execution_count": 15,
   "id": "7999bc17",
   "metadata": {},
   "outputs": [],
   "source": [
    "auto_mpg=auto_mpg[auto_mpg['horsepower']>0]"
   ]
  },
  {
   "cell_type": "code",
   "execution_count": 16,
   "id": "89679207",
   "metadata": {},
   "outputs": [
    {
     "data": {
      "text/plain": [
       "4    199\n",
       "8    103\n",
       "6     83\n",
       "3      4\n",
       "5      3\n",
       "Name: cylinders, dtype: int64"
      ]
     },
     "execution_count": 16,
     "metadata": {},
     "output_type": "execute_result"
    }
   ],
   "source": [
    "auto_mpg['cylinders'].value_counts()"
   ]
  },
  {
   "cell_type": "code",
   "execution_count": 17,
   "id": "4ff2e7c4",
   "metadata": {},
   "outputs": [
    {
     "data": {
      "text/plain": [
       "150.0    22\n",
       "90.0     20\n",
       "88.0     19\n",
       "110.0    18\n",
       "100.0    17\n",
       "         ..\n",
       "61.0      1\n",
       "93.0      1\n",
       "148.0     1\n",
       "152.0     1\n",
       "82.0      1\n",
       "Name: horsepower, Length: 93, dtype: int64"
      ]
     },
     "execution_count": 17,
     "metadata": {},
     "output_type": "execute_result"
    }
   ],
   "source": [
    "auto_mpg['horsepower'].value_counts()"
   ]
  },
  {
   "cell_type": "code",
   "execution_count": 18,
   "id": "b92a0046",
   "metadata": {},
   "outputs": [
    {
     "data": {
      "text/plain": [
       "14.5    23\n",
       "15.5    21\n",
       "14.0    16\n",
       "16.0    16\n",
       "13.5    15\n",
       "        ..\n",
       "11.1     1\n",
       "12.1     1\n",
       "21.9     1\n",
       "22.1     1\n",
       "11.6     1\n",
       "Name: acceleration, Length: 95, dtype: int64"
      ]
     },
     "execution_count": 18,
     "metadata": {},
     "output_type": "execute_result"
    }
   ],
   "source": [
    "auto_mpg['acceleration'].value_counts()"
   ]
  },
  {
   "cell_type": "code",
   "execution_count": 19,
   "id": "7af04ce8",
   "metadata": {},
   "outputs": [
    {
     "data": {
      "text/plain": [
       "array([70, 71, 72, 73, 74, 75, 76, 77, 78, 79, 80, 81, 82], dtype=int64)"
      ]
     },
     "execution_count": 19,
     "metadata": {},
     "output_type": "execute_result"
    }
   ],
   "source": [
    "auto_mpg[\"model_year\"].unique()"
   ]
  },
  {
   "cell_type": "code",
   "execution_count": 20,
   "id": "3bb61191",
   "metadata": {},
   "outputs": [],
   "source": [
    "mat=np.asanyarray(auto_mpg[['cylinders', 'horsepower', 'weight', 'acceleration', 'model_year','mpg']])\n",
    "weight=[0.05,0.35,0.05,2,1.5,2]\n",
    "types=[\"+\",\"+\",\"-\",\"+\",\"+\",\"+\"]"
   ]
  },
  {
   "cell_type": "markdown",
   "id": "320e8a17",
   "metadata": {},
   "source": [
    "![purple-divider](https://user-images.githubusercontent.com/7065401/52071927-c1cd7100-2562-11e9-908a-dde91ba14e59.png)"
   ]
  },
  {
   "cell_type": "markdown",
   "id": "965e2663",
   "metadata": {},
   "source": [
    "<h2 id=\"sawmethod\">1.SAW method</h2>"
   ]
  },
  {
   "cell_type": "code",
   "execution_count": 21,
   "id": "09b0b34a",
   "metadata": {},
   "outputs": [],
   "source": [
    "def saw(CriteriaMat,typeOfCriteria,weight):\n",
    "    m,n=CriteriaMat.shape\n",
    "    normMat=np.zeros((m,n))\n",
    "    #normalization\n",
    "    for i in range(m):\n",
    "        for j in range(n):\n",
    "            if typeOfCriteria[j]==\"+\":\n",
    "                normMat[i,j]=CriteriaMat[i,j]/np.max(CriteriaMat,axis=0)[j]\n",
    "            else:\n",
    "                normMat[i,j]=np.min(CriteriaMat,axis=0)[j]/CriteriaMat[i,j]\n",
    "    scoreMat=np.zeros((m,n))\n",
    "    # normal matrix * weight matrix\n",
    "    for i in range(m):\n",
    "        for j in range(n):\n",
    "            scoreMat[i,j]=normMat[i,j] * weight[j]\n",
    "    finalScore=np.sum(scoreMat,axis=1)\n",
    "    Rankedmat=np.sort(finalScore)[::-1]\n",
    "    finalResult=[]\n",
    "    # rank top 5 \n",
    "    for i in range(5):\n",
    "        place=np.where(finalScore==Rankedmat[i])[0][0]\n",
    "        finalResult.append((auto_mpg.iloc[place].name,Rankedmat[i]))\n",
    "    return finalResult\n",
    "    "
   ]
  },
  {
   "cell_type": "code",
   "execution_count": 22,
   "id": "782e10c8",
   "metadata": {},
   "outputs": [],
   "source": [
    "name=[]\n",
    "value=[]\n",
    "for i in saw(mat,types,weight):\n",
    "    name.append(i[0])\n",
    "    value.append(i[1])"
   ]
  },
  {
   "cell_type": "code",
   "execution_count": 23,
   "id": "1bea535b",
   "metadata": {},
   "outputs": [
    {
     "data": {
      "image/png": "[encoded data removed]",
      "text/plain": [
       "<Figure size 1152x648 with 1 Axes>"
      ]
     },
     "metadata": {
      "needs_background": "light"
     },
     "output_type": "display_data"
    }
   ],
   "source": [
    "# Figure Size\n",
    "fig, ax = plt.subplots(figsize =(16, 9))\n",
    " \n",
    "# Horizontal Bar Plot\n",
    "ax.barh(name, value,height=0.3)\n",
    " \n",
    "# Remove axes splines\n",
    "for s in ['top', 'bottom', 'left', 'right']:\n",
    "    ax.spines[s].set_visible(False)\n",
    " \n",
    "# Remove x, y Ticks\n",
    "ax.xaxis.set_ticks_position('none')\n",
    "ax.yaxis.set_ticks_position('none')\n",
    " \n",
    "# Add padding between axes and labels\n",
    "ax.xaxis.set_tick_params(pad = 5)\n",
    "ax.yaxis.set_tick_params(pad = 10)\n",
    " \n",
    "# Add x, y gridlines\n",
    "ax.grid(b = True, color ='grey',\n",
    "        linestyle ='-.', linewidth = 0.2,\n",
    "        alpha = 0.5)\n",
    " \n",
    "# Show top values\n",
    "ax.invert_yaxis()\n",
    " \n",
    "# Add annotation to bars\n",
    "for i in ax.patches:\n",
    "    plt.text(i.get_width()+0.2, i.get_y()+0.19,\n",
    "             str(round((i.get_width()), 2)),\n",
    "             fontsize = 10, fontweight ='bold',\n",
    "             color ='grey')\n",
    " \n",
    "# Add Plot Title\n",
    "ax.set_title('car final Rank',\n",
    "             loc ='left', )\n",
    " \n",
    "# Add Text watermark\n",
    "fig.text(0.9, 0.15, 'car score', fontsize = 12,\n",
    "         color ='grey', ha ='right', va ='bottom',\n",
    "         alpha = 0.8)\n",
    " \n",
    "# Show Plot\n",
    "plt.show()"
   ]
  },
  {
   "cell_type": "markdown",
   "id": "6275af73",
   "metadata": {},
   "source": [
    "![green-divider](https://user-images.githubusercontent.com/7065401/52071924-c003ad80-2562-11e9-8297-1c6595f8a7ff.png)"
   ]
  },
  {
   "cell_type": "markdown",
   "id": "af9b6dbd",
   "metadata": {},
   "source": [
    "<h2 id=\"topsis\">2.topsis method</h2>"
   ]
  },
  {
   "cell_type": "code",
   "execution_count": 24,
   "id": "cf7de269",
   "metadata": {},
   "outputs": [],
   "source": [
    "def topsis(CriteriaMat,typeOfCriteria,weight):\n",
    "    m,n=CriteriaMat.shape\n",
    "    normMat=np.zeros((m,n))\n",
    "    #normalization\n",
    "    for i in range(m):\n",
    "        for j in range(n):\n",
    "            normMat[i,j]=CriteriaMat[i,j]/np.linalg.norm(CriteriaMat[:,j])\n",
    "    Vmat=np.zeros((m,n))\n",
    "    #normal matrix * weight matrix\n",
    "    for i in range(m):\n",
    "        for j in range(n):\n",
    "            Vmat[i,j]=normMat[i,j] * weight[j]\n",
    "    #create Aplus and Amius\n",
    "    Aplus=np.zeros(n)\n",
    "    for i in range(n):\n",
    "        if typeOfCriteria[i]==\"+\":\n",
    "            Aplus[i]=np.max(Vmat,axis=0)[i]\n",
    "        else:\n",
    "            Aplus[i]=np.min(Vmat,axis=0)[i]\n",
    "    Aminus=np.zeros(n)\n",
    "    for i in range(n):\n",
    "        if typeOfCriteria[i]==\"+\":\n",
    "            Aminus[i]=np.min(Vmat,axis=0)[i]\n",
    "        else:\n",
    "            Aminus[i]=np.max(Vmat,axis=0)[i]\n",
    "    #calculate Score matrix\n",
    "    scoreMat=np.zeros(m)\n",
    "    for i in range(m):\n",
    "        Dplus=np.linalg.norm(Aplus-Vmat[i,:])\n",
    "        Dminus=np.linalg.norm(Aminus-Vmat[i,:])\n",
    "        scoreMat[i]=Dminus/(Dplus+Dminus)\n",
    "    #ranke top 5 \n",
    "    Rankedmat=np.sort(scoreMat)[::-1]\n",
    "    finalResult=[]\n",
    "    for i in range(5):\n",
    "        place=np.where(scoreMat==Rankedmat[i])[0][0]\n",
    "        finalResult.append((auto_mpg.iloc[place].name,Rankedmat[i]))\n",
    "    return finalResult"
   ]
  },
  {
   "cell_type": "code",
   "execution_count": 25,
   "id": "8459c3d7",
   "metadata": {},
   "outputs": [
    {
     "data": {
      "text/plain": [
       "[0.8550607090758738,\n",
       " 0.8415094382798952,\n",
       " 0.8229591907702818,\n",
       " 0.8089070573019886,\n",
       " 0.7641684681034441]"
      ]
     },
     "execution_count": 25,
     "metadata": {},
     "output_type": "execute_result"
    }
   ],
   "source": [
    "name=[]\n",
    "value=[]\n",
    "for i in topsis(mat,types,weight):\n",
    "    name.append(i[0])\n",
    "    value.append(i[1])\n",
    "value"
   ]
  },
  {
   "cell_type": "code",
   "execution_count": 26,
   "id": "561361db",
   "metadata": {},
   "outputs": [
    {
     "data": {
      "image/png": "[encoded data removed]",
      "text/plain": [
       "<Figure size 1152x648 with 1 Axes>"
      ]
     },
     "metadata": {
      "needs_background": "light"
     },
     "output_type": "display_data"
    }
   ],
   "source": [
    "fig, ax = plt.subplots(figsize =(16, 9))\n",
    "\n",
    "# Save the chart so we can loop through the bars below.\n",
    "bars = ax.bar(\n",
    "    name,\n",
    "    value,\n",
    "    width=0.5\n",
    ")\n",
    "\n",
    "# Axis formatting.\n",
    "ax.spines['top'].set_visible(False)\n",
    "ax.spines['right'].set_visible(False)\n",
    "ax.spines['left'].set_visible(False)\n",
    "ax.spines['bottom'].set_color('#DDDDDD')\n",
    "ax.tick_params(bottom=False, left=False)\n",
    "ax.set_axisbelow(True)\n",
    "ax.yaxis.grid(True, color='#EEEEEE')\n",
    "ax.xaxis.grid(False)\n",
    "\n",
    "# Add text annotations to the top of the bars.\n",
    "bar_color = bars[0].get_facecolor()\n",
    "for bar in bars:\n",
    "  ax.text(\n",
    "      bar.get_x() + bar.get_width() / 2,\n",
    "      bar.get_height()+0.02 ,\n",
    "      round(bar.get_height(), 3),\n",
    "      horizontalalignment='center',\n",
    "      color=bar_color,\n",
    "      weight='bold'\n",
    "  )\n",
    "\n",
    "# Add labels and a title. Note the use of `labelpad` and `pad` to add some\n",
    "# extra space between the text and the tick labels.\n",
    "ax.set_xlabel('name of car', labelpad=15, color=\"black\",weight=\"bold\")\n",
    "ax.set_ylabel('Score of car', labelpad=15, color='black',weight=\"bold\")\n",
    "ax.set_title('decision chart', pad=15, color='#333333',\n",
    "             weight='bold')\n",
    "\n",
    "fig.tight_layout()\n"
   ]
  },
  {
   "cell_type": "markdown",
   "id": "7d565c21",
   "metadata": {},
   "source": [
    "![purple-divider](https://user-images.githubusercontent.com/7065401/52071927-c1cd7100-2562-11e9-908a-dde91ba14e59.png)"
   ]
  },
  {
   "cell_type": "markdown",
   "id": "d71dd845",
   "metadata": {},
   "source": [
    "<h2 id=\"vikor\">3.vikor method</h2>"
   ]
  },
  {
   "cell_type": "code",
   "execution_count": 27,
   "id": "f321cb07",
   "metadata": {},
   "outputs": [],
   "source": [
    "def vikor(CriteriaMat,typeOfCriteria,weight,Lambda):\n",
    "    m,n=CriteriaMat.shape\n",
    "    normMat=np.zeros((m,n))\n",
    "    newmat=np.zeros((m,n))\n",
    "    Smat=np.zeros(m)\n",
    "    Rmat=np.zeros(m)\n",
    "    Qmat=np.zeros(m)\n",
    "    for i in range(m):\n",
    "        for j in range(n):\n",
    "                newmat[i,j]=(weight[j]*(np.max(CriteriaMat,axis=0)[j]-CriteriaMat[i,j]))/((np.max(CriteriaMat,axis=0)[j]-np.min(CriteriaMat,axis=0)[j]))\n",
    "    for i in range(m):\n",
    "        Smat[i]=np.sum(newmat,axis=1)[i]\n",
    "        Rmat[i]=np.max(newmat,axis=1)[i]\n",
    "    Splus=np.min(Smat)\n",
    "    Sminus=np.max(Smat)\n",
    "    Rplus=np.min(Rmat)\n",
    "    Rminus=np.max(Rmat)\n",
    "    for i in range(m):\n",
    "        Qmat[i]=Lambda*((Smat[i]-Splus)/(Sminus-Splus))+(1-Lambda)*((Rmat[i]-Rplus)/(Rminus-Rplus))\n",
    "    DQ=1/(1-m)\n",
    "    combineMat=np.array((Smat,Rmat,Qmat)).transpose()\n",
    "    RankedMat=np.sort(combineMat,axis=0)\n",
    "    c2=(combineMat[np.where(combineMat[:,2]==RankedMat[0,2])[0],1]==RankedMat[0,1]) and (combineMat[np.where(combineMat[:,2]==RankedMat[0,2])[0],0]==RankedMat[0,0]) \n",
    "    if RankedMat[1,2]-RankedMat[0,2]>=DQ and c2:\n",
    "        final=[np.where(combineMat[:,2]==RankedMat[0,2])[0]+1]\n",
    "        return final\n",
    "    elif not c2 and RankedMat[1,2]-RankedMat[0,2]>=DQ:\n",
    "        final=[np.where(combineMat[:,2]==RankedMat[0,2])[0]+1 , np.where(combineMat[:,2]==RankedMat[1,2])[0]+1]\n",
    "        return final\n",
    "    elif c2 and not (RankedMat[0,2]-RankedMat[1,2]>=DQ):\n",
    "        for i in range(m+1):\n",
    "            if(RankedMat[i,2]-RankedMat[0,2]<DQ):\n",
    "                index=i\n",
    "                break\n",
    "        final=[]\n",
    "        for i in range(index):\n",
    "            final.append(np.where(combineMat[:,2]==RankedMat[i,2])[0]+1)\n",
    "        return final\n"
   ]
  },
  {
   "cell_type": "code",
   "execution_count": 28,
   "id": "cd462744",
   "metadata": {
    "scrolled": true
   },
   "outputs": [
    {
     "name": "stdout",
     "output_type": "stream",
     "text": [
      "dodge rampage\n"
     ]
    }
   ],
   "source": [
    "for i in vikor(mat,types,weight,0.5):\n",
    "    print(auto_mpg.iloc[i[0]].name)"
   ]
  }
 ],
 "metadata": {
  "kernelspec": {
   "display_name": "Python 3 (ipykernel)",
   "language": "python",
   "name": "python3"
  },
  "language_info": {
   "codemirror_mode": {
    "name": "ipython",
    "version": 3
   },
   "file_extension": ".py",
   "mimetype": "text/x-python",
   "name": "python",
   "nbconvert_exporter": "python",
   "pygments_lexer": "ipython3",
   "version": "3.9.7"
  }
 },
 "nbformat": 4,
 "nbformat_minor": 5
}
